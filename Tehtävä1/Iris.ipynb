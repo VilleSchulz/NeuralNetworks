{
 "cells": [
  {
   "cell_type": "code",
   "id": "initial_id",
   "metadata": {
    "collapsed": true,
    "ExecuteTime": {
     "end_time": "2025-10-27T15:34:34.172902Z",
     "start_time": "2025-10-27T15:34:32.727732Z"
    }
   },
   "source": [
    "import keras\n",
    "import pandas as pd\n",
    "from sklearn.model_selection import train_test_split\n",
    "from sklearn.preprocessing import LabelEncoder, StandardScaler\n",
    "import matplotlib.pyplot as plt"
   ],
   "outputs": [
    {
     "name": "stderr",
     "output_type": "stream",
     "text": [
      "WARNING: All log messages before absl::InitializeLog() is called are written to STDERR\n",
      "I0000 00:00:1761579272.919946 1931108 port.cc:153] oneDNN custom operations are on. You may see slightly different numerical results due to floating-point round-off errors from different computation orders. To turn them off, set the environment variable `TF_ENABLE_ONEDNN_OPTS=0`.\n",
      "I0000 00:00:1761579272.947024 1931108 cpu_feature_guard.cc:210] This TensorFlow binary is optimized to use available CPU instructions in performance-critical operations.\n",
      "To enable the following instructions: AVX2 AVX512F AVX512_VNNI AVX512_BF16 AVX_VNNI FMA, in other operations, rebuild TensorFlow with the appropriate compiler flags.\n",
      "WARNING: All log messages before absl::InitializeLog() is called are written to STDERR\n",
      "I0000 00:00:1761579273.559268 1931108 port.cc:153] oneDNN custom operations are on. You may see slightly different numerical results due to floating-point round-off errors from different computation orders. To turn them off, set the environment variable `TF_ENABLE_ONEDNN_OPTS=0`.\n"
     ]
    }
   ],
   "execution_count": 1
  },
  {
   "metadata": {
    "ExecuteTime": {
     "end_time": "2025-10-27T15:34:34.723253Z",
     "start_time": "2025-10-27T15:34:34.176447Z"
    }
   },
   "cell_type": "code",
   "source": [
    "url = \"https://archive.ics.uci.edu/ml/machine-learning-databases/iris/iris.data\"\n",
    "columns = ['sepal_length', 'sepal_width', 'petal_length', 'petal_width', 'species']\n",
    "df = pd.read_csv(url, header=None, names=columns)\n",
    "df = df.dropna()\n",
    "print(df.head())"
   ],
   "id": "308d2de272d65053",
   "outputs": [
    {
     "name": "stdout",
     "output_type": "stream",
     "text": [
      "   sepal_length  sepal_width  petal_length  petal_width      species\n",
      "0           5.1          3.5           1.4          0.2  Iris-setosa\n",
      "1           4.9          3.0           1.4          0.2  Iris-setosa\n",
      "2           4.7          3.2           1.3          0.2  Iris-setosa\n",
      "3           4.6          3.1           1.5          0.2  Iris-setosa\n",
      "4           5.0          3.6           1.4          0.2  Iris-setosa\n"
     ]
    }
   ],
   "execution_count": 2
  },
  {
   "metadata": {
    "ExecuteTime": {
     "end_time": "2025-10-27T15:34:34.732602Z",
     "start_time": "2025-10-27T15:34:34.730040Z"
    }
   },
   "cell_type": "code",
   "source": [
    "# Split target and values\n",
    "X = df.iloc[:, 0:4].values\n",
    "y = df['species'].values"
   ],
   "id": "ed34dad21af4991e",
   "outputs": [],
   "execution_count": 3
  },
  {
   "metadata": {
    "ExecuteTime": {
     "end_time": "2025-10-27T15:34:34.783324Z",
     "start_time": "2025-10-27T15:34:34.777791Z"
    }
   },
   "cell_type": "code",
   "source": [
    "# change labels to numerical values\n",
    "encoder = LabelEncoder()\n",
    "y_encoded = encoder.fit_transform(y)\n",
    "\n",
    "# make vector from categories\n",
    "y_categorical = keras.utils.to_categorical(y_encoded)\n",
    "\n",
    "# scale values\n",
    "scaler = StandardScaler()\n",
    "X_scaled = scaler.fit_transform(X)\n",
    "\n",
    "# split data set and ensure that test and train set have same amount of targets and also suffle data.\n",
    "X_train, X_test, y_train, y_test = train_test_split(X_scaled, y_categorical, test_size=0.2, random_state=42,\n",
    "                                                    shuffle=True, stratify=y)\n",
    "print(\"Training data shape:\", X_train.shape)\n",
    "print(\"Test data shape:\", X_test.shape)\n",
    "print(\"Training labels shape:\", y_train.shape)\n",
    "print(\"Test labels shape:\", y_test.shape)"
   ],
   "id": "f3e13d90575313aa",
   "outputs": [
    {
     "name": "stdout",
     "output_type": "stream",
     "text": [
      "Training data shape: (120, 4)\n",
      "Test data shape: (30, 4)\n",
      "Training labels shape: (120, 3)\n",
      "Test labels shape: (30, 3)\n"
     ]
    }
   ],
   "execution_count": 4
  },
  {
   "metadata": {},
   "cell_type": "markdown",
   "source": "# Building the neural network\n",
   "id": "8848410dafa418d6"
  },
  {
   "metadata": {
    "ExecuteTime": {
     "end_time": "2025-10-27T15:34:35.583165Z",
     "start_time": "2025-10-27T15:34:34.826808Z"
    }
   },
   "cell_type": "code",
   "source": [
    "model = keras.Sequential([\n",
    "    keras.Input(shape=(4,)),\n",
    "    keras.layers.Dense(12, activation='relu'),\n",
    "    keras.layers.Dense(3, activation='softmax')\n",
    "])\n",
    "model.compile(optimizer='adam',\n",
    "              loss='categorical_crossentropy',\n",
    "              metrics=['accuracy'])"
   ],
   "id": "8924be664fc6ff0a",
   "outputs": [
    {
     "name": "stderr",
     "output_type": "stream",
     "text": [
      "W0000 00:00:1761579274.984360 1931108 gpu_device.cc:2456] TensorFlow was not built with CUDA kernel binaries compatible with compute capability 12.0a. CUDA kernels will be jit-compiled from PTX, which could take 30 minutes or longer.\n",
      "W0000 00:00:1761579274.987308 1931108 gpu_device.cc:2456] TensorFlow was not built with CUDA kernel binaries compatible with compute capability 12.0a. CUDA kernels will be jit-compiled from PTX, which could take 30 minutes or longer.\n",
      "I0000 00:00:1761579275.103757 1931108 gpu_device.cc:2040] Created device /job:localhost/replica:0/task:0/device:GPU:0 with 13121 MB memory:  -> device: 0, name: NVIDIA GeForce RTX 5070 Ti, pci bus id: 0000:01:00.0, compute capability: 12.0a\n"
     ]
    }
   ],
   "execution_count": 5
  },
  {
   "metadata": {},
   "cell_type": "markdown",
   "source": [
    "# Train the model\n",
    "I noticed that i  batch size is raised over 8, models starts to perform poorly"
   ],
   "id": "1e983fedc26d2913"
  },
  {
   "metadata": {
    "ExecuteTime": {
     "end_time": "2025-10-27T15:34:42.891143Z",
     "start_time": "2025-10-27T15:34:35.586820Z"
    }
   },
   "cell_type": "code",
   "source": [
    "model_data = model.fit(X_train, y_train, epochs=90, batch_size=8, validation_split=0.1)\n",
    "score = model.evaluate(X_test, y_test, verbose=1)\n"
   ],
   "id": "531aabc62666efb9",
   "outputs": [
    {
     "name": "stdout",
     "output_type": "stream",
     "text": [
      "Epoch 1/90\n"
     ]
    },
    {
     "name": "stderr",
     "output_type": "stream",
     "text": [
      "I0000 00:00:1761579275.840809 1931235 service.cc:158] XLA service 0x7e3c9802ffb0 initialized for platform CUDA (this does not guarantee that XLA will be used). Devices:\n",
      "I0000 00:00:1761579275.840844 1931235 service.cc:166]   StreamExecutor device (0): NVIDIA GeForce RTX 5070 Ti, Compute Capability 12.0a\n",
      "I0000 00:00:1761579275.849748 1931235 dump_mlir_util.cc:269] disabling MLIR crash reproducer, set env var `MLIR_CRASH_REPRODUCER_DIRECTORY` to enable.\n",
      "I0000 00:00:1761579275.890489 1931235 cuda_dnn.cc:463] Loaded cuDNN version 91002\n"
     ]
    },
    {
     "name": "stdout",
     "output_type": "stream",
     "text": [
      "\u001B[1m 1/14\u001B[0m \u001B[32m━\u001B[0m\u001B[37m━━━━━━━━━━━━━━━━━━━\u001B[0m \u001B[1m8s\u001B[0m 638ms/step - accuracy: 0.2500 - loss: 1.0517"
     ]
    },
    {
     "name": "stderr",
     "output_type": "stream",
     "text": [
      "I0000 00:00:1761579276.241987 1931235 device_compiler.h:208] Compiled cluster using XLA!  This line is logged at most once for the lifetime of the process.\n"
     ]
    },
    {
     "name": "stdout",
     "output_type": "stream",
     "text": [
      "\u001B[1m14/14\u001B[0m \u001B[32m━━━━━━━━━━━━━━━━━━━━\u001B[0m\u001B[37m\u001B[0m \u001B[1m1s\u001B[0m 45ms/step - accuracy: 0.5556 - loss: 0.9332 - val_accuracy: 0.5833 - val_loss: 0.9653\n",
      "Epoch 2/90\n",
      "\u001B[1m14/14\u001B[0m \u001B[32m━━━━━━━━━━━━━━━━━━━━\u001B[0m\u001B[37m\u001B[0m \u001B[1m0s\u001B[0m 4ms/step - accuracy: 0.6204 - loss: 0.8781 - val_accuracy: 0.5833 - val_loss: 0.9227\n",
      "Epoch 3/90\n",
      "\u001B[1m14/14\u001B[0m \u001B[32m━━━━━━━━━━━━━━━━━━━━\u001B[0m\u001B[37m\u001B[0m \u001B[1m0s\u001B[0m 5ms/step - accuracy: 0.6574 - loss: 0.8312 - val_accuracy: 0.5833 - val_loss: 0.8869\n",
      "Epoch 4/90\n",
      "\u001B[1m14/14\u001B[0m \u001B[32m━━━━━━━━━━━━━━━━━━━━\u001B[0m\u001B[37m\u001B[0m \u001B[1m0s\u001B[0m 5ms/step - accuracy: 0.6759 - loss: 0.7872 - val_accuracy: 0.5833 - val_loss: 0.8501\n",
      "Epoch 5/90\n",
      "\u001B[1m14/14\u001B[0m \u001B[32m━━━━━━━━━━━━━━━━━━━━\u001B[0m\u001B[37m\u001B[0m \u001B[1m0s\u001B[0m 5ms/step - accuracy: 0.6759 - loss: 0.7486 - val_accuracy: 0.5833 - val_loss: 0.8152\n",
      "Epoch 6/90\n",
      "\u001B[1m14/14\u001B[0m \u001B[32m━━━━━━━━━━━━━━━━━━━━\u001B[0m\u001B[37m\u001B[0m \u001B[1m0s\u001B[0m 5ms/step - accuracy: 0.6759 - loss: 0.7142 - val_accuracy: 0.5833 - val_loss: 0.7833\n",
      "Epoch 7/90\n",
      "\u001B[1m14/14\u001B[0m \u001B[32m━━━━━━━━━━━━━━━━━━━━\u001B[0m\u001B[37m\u001B[0m \u001B[1m0s\u001B[0m 4ms/step - accuracy: 0.6944 - loss: 0.6805 - val_accuracy: 0.5833 - val_loss: 0.7477\n",
      "Epoch 8/90\n",
      "\u001B[1m14/14\u001B[0m \u001B[32m━━━━━━━━━━━━━━━━━━━━\u001B[0m\u001B[37m\u001B[0m \u001B[1m0s\u001B[0m 4ms/step - accuracy: 0.6944 - loss: 0.6502 - val_accuracy: 0.6667 - val_loss: 0.7132\n",
      "Epoch 9/90\n",
      "\u001B[1m14/14\u001B[0m \u001B[32m━━━━━━━━━━━━━━━━━━━━\u001B[0m\u001B[37m\u001B[0m \u001B[1m0s\u001B[0m 4ms/step - accuracy: 0.7037 - loss: 0.6223 - val_accuracy: 0.6667 - val_loss: 0.6836\n",
      "Epoch 10/90\n",
      "\u001B[1m14/14\u001B[0m \u001B[32m━━━━━━━━━━━━━━━━━━━━\u001B[0m\u001B[37m\u001B[0m \u001B[1m0s\u001B[0m 4ms/step - accuracy: 0.7037 - loss: 0.5961 - val_accuracy: 0.6667 - val_loss: 0.6580\n",
      "Epoch 11/90\n",
      "\u001B[1m14/14\u001B[0m \u001B[32m━━━━━━━━━━━━━━━━━━━━\u001B[0m\u001B[37m\u001B[0m \u001B[1m0s\u001B[0m 4ms/step - accuracy: 0.7222 - loss: 0.5724 - val_accuracy: 0.6667 - val_loss: 0.6345\n",
      "Epoch 12/90\n",
      "\u001B[1m14/14\u001B[0m \u001B[32m━━━━━━━━━━━━━━━━━━━━\u001B[0m\u001B[37m\u001B[0m \u001B[1m0s\u001B[0m 4ms/step - accuracy: 0.7407 - loss: 0.5516 - val_accuracy: 0.6667 - val_loss: 0.6101\n",
      "Epoch 13/90\n",
      "\u001B[1m14/14\u001B[0m \u001B[32m━━━━━━━━━━━━━━━━━━━━\u001B[0m\u001B[37m\u001B[0m \u001B[1m0s\u001B[0m 4ms/step - accuracy: 0.7593 - loss: 0.5317 - val_accuracy: 0.6667 - val_loss: 0.5919\n",
      "Epoch 14/90\n",
      "\u001B[1m14/14\u001B[0m \u001B[32m━━━━━━━━━━━━━━━━━━━━\u001B[0m\u001B[37m\u001B[0m \u001B[1m0s\u001B[0m 4ms/step - accuracy: 0.8056 - loss: 0.5136 - val_accuracy: 0.7500 - val_loss: 0.5702\n",
      "Epoch 15/90\n",
      "\u001B[1m14/14\u001B[0m \u001B[32m━━━━━━━━━━━━━━━━━━━━\u001B[0m\u001B[37m\u001B[0m \u001B[1m0s\u001B[0m 4ms/step - accuracy: 0.8426 - loss: 0.4966 - val_accuracy: 0.7500 - val_loss: 0.5496\n",
      "Epoch 16/90\n",
      "\u001B[1m14/14\u001B[0m \u001B[32m━━━━━━━━━━━━━━━━━━━━\u001B[0m\u001B[37m\u001B[0m \u001B[1m0s\u001B[0m 4ms/step - accuracy: 0.8519 - loss: 0.4808 - val_accuracy: 0.7500 - val_loss: 0.5352\n",
      "Epoch 17/90\n",
      "\u001B[1m14/14\u001B[0m \u001B[32m━━━━━━━━━━━━━━━━━━━━\u001B[0m\u001B[37m\u001B[0m \u001B[1m0s\u001B[0m 5ms/step - accuracy: 0.8704 - loss: 0.4660 - val_accuracy: 0.7500 - val_loss: 0.5156\n",
      "Epoch 18/90\n",
      "\u001B[1m14/14\u001B[0m \u001B[32m━━━━━━━━━━━━━━━━━━━━\u001B[0m\u001B[37m\u001B[0m \u001B[1m0s\u001B[0m 5ms/step - accuracy: 0.8796 - loss: 0.4510 - val_accuracy: 0.7500 - val_loss: 0.4995\n",
      "Epoch 19/90\n",
      "\u001B[1m14/14\u001B[0m \u001B[32m━━━━━━━━━━━━━━━━━━━━\u001B[0m\u001B[37m\u001B[0m \u001B[1m0s\u001B[0m 4ms/step - accuracy: 0.8889 - loss: 0.4369 - val_accuracy: 0.7500 - val_loss: 0.4844\n",
      "Epoch 20/90\n",
      "\u001B[1m14/14\u001B[0m \u001B[32m━━━━━━━━━━━━━━━━━━━━\u001B[0m\u001B[37m\u001B[0m \u001B[1m0s\u001B[0m 4ms/step - accuracy: 0.8981 - loss: 0.4237 - val_accuracy: 0.7500 - val_loss: 0.4671\n",
      "Epoch 21/90\n",
      "\u001B[1m14/14\u001B[0m \u001B[32m━━━━━━━━━━━━━━━━━━━━\u001B[0m\u001B[37m\u001B[0m \u001B[1m0s\u001B[0m 4ms/step - accuracy: 0.8981 - loss: 0.4108 - val_accuracy: 0.7500 - val_loss: 0.4569\n",
      "Epoch 22/90\n",
      "\u001B[1m14/14\u001B[0m \u001B[32m━━━━━━━━━━━━━━━━━━━━\u001B[0m\u001B[37m\u001B[0m \u001B[1m0s\u001B[0m 5ms/step - accuracy: 0.8981 - loss: 0.3982 - val_accuracy: 0.7500 - val_loss: 0.4419\n",
      "Epoch 23/90\n",
      "\u001B[1m14/14\u001B[0m \u001B[32m━━━━━━━━━━━━━━━━━━━━\u001B[0m\u001B[37m\u001B[0m \u001B[1m0s\u001B[0m 5ms/step - accuracy: 0.8981 - loss: 0.3867 - val_accuracy: 0.8333 - val_loss: 0.4324\n",
      "Epoch 24/90\n",
      "\u001B[1m14/14\u001B[0m \u001B[32m━━━━━━━━━━━━━━━━━━━━\u001B[0m\u001B[37m\u001B[0m \u001B[1m0s\u001B[0m 5ms/step - accuracy: 0.9074 - loss: 0.3750 - val_accuracy: 0.8333 - val_loss: 0.4166\n",
      "Epoch 25/90\n",
      "\u001B[1m14/14\u001B[0m \u001B[32m━━━━━━━━━━━━━━━━━━━━\u001B[0m\u001B[37m\u001B[0m \u001B[1m0s\u001B[0m 4ms/step - accuracy: 0.9167 - loss: 0.3657 - val_accuracy: 0.8333 - val_loss: 0.3940\n",
      "Epoch 26/90\n",
      "\u001B[1m14/14\u001B[0m \u001B[32m━━━━━━━━━━━━━━━━━━━━\u001B[0m\u001B[37m\u001B[0m \u001B[1m0s\u001B[0m 5ms/step - accuracy: 0.9352 - loss: 0.3537 - val_accuracy: 0.8333 - val_loss: 0.3870\n",
      "Epoch 27/90\n",
      "\u001B[1m14/14\u001B[0m \u001B[32m━━━━━━━━━━━━━━━━━━━━\u001B[0m\u001B[37m\u001B[0m \u001B[1m0s\u001B[0m 4ms/step - accuracy: 0.9444 - loss: 0.3444 - val_accuracy: 0.8333 - val_loss: 0.3746\n",
      "Epoch 28/90\n",
      "\u001B[1m14/14\u001B[0m \u001B[32m━━━━━━━━━━━━━━━━━━━━\u001B[0m\u001B[37m\u001B[0m \u001B[1m0s\u001B[0m 4ms/step - accuracy: 0.9352 - loss: 0.3347 - val_accuracy: 0.8333 - val_loss: 0.3648\n",
      "Epoch 29/90\n",
      "\u001B[1m14/14\u001B[0m \u001B[32m━━━━━━━━━━━━━━━━━━━━\u001B[0m\u001B[37m\u001B[0m \u001B[1m0s\u001B[0m 4ms/step - accuracy: 0.9352 - loss: 0.3252 - val_accuracy: 0.8333 - val_loss: 0.3594\n",
      "Epoch 30/90\n",
      "\u001B[1m14/14\u001B[0m \u001B[32m━━━━━━━━━━━━━━━━━━━━\u001B[0m\u001B[37m\u001B[0m \u001B[1m0s\u001B[0m 4ms/step - accuracy: 0.9259 - loss: 0.3178 - val_accuracy: 0.8333 - val_loss: 0.3567\n",
      "Epoch 31/90\n",
      "\u001B[1m14/14\u001B[0m \u001B[32m━━━━━━━━━━━━━━━━━━━━\u001B[0m\u001B[37m\u001B[0m \u001B[1m0s\u001B[0m 4ms/step - accuracy: 0.9444 - loss: 0.3093 - val_accuracy: 0.8333 - val_loss: 0.3409\n",
      "Epoch 32/90\n",
      "\u001B[1m14/14\u001B[0m \u001B[32m━━━━━━━━━━━━━━━━━━━━\u001B[0m\u001B[37m\u001B[0m \u001B[1m0s\u001B[0m 4ms/step - accuracy: 0.9444 - loss: 0.3010 - val_accuracy: 0.8333 - val_loss: 0.3321\n",
      "Epoch 33/90\n",
      "\u001B[1m14/14\u001B[0m \u001B[32m━━━━━━━━━━━━━━━━━━━━\u001B[0m\u001B[37m\u001B[0m \u001B[1m0s\u001B[0m 4ms/step - accuracy: 0.9444 - loss: 0.2936 - val_accuracy: 0.8333 - val_loss: 0.3230\n",
      "Epoch 34/90\n",
      "\u001B[1m14/14\u001B[0m \u001B[32m━━━━━━━━━━━━━━━━━━━━\u001B[0m\u001B[37m\u001B[0m \u001B[1m0s\u001B[0m 4ms/step - accuracy: 0.9444 - loss: 0.2863 - val_accuracy: 0.8333 - val_loss: 0.3199\n",
      "Epoch 35/90\n",
      "\u001B[1m14/14\u001B[0m \u001B[32m━━━━━━━━━━━━━━━━━━━━\u001B[0m\u001B[37m\u001B[0m \u001B[1m0s\u001B[0m 4ms/step - accuracy: 0.9444 - loss: 0.2793 - val_accuracy: 0.8333 - val_loss: 0.3158\n",
      "Epoch 36/90\n",
      "\u001B[1m14/14\u001B[0m \u001B[32m━━━━━━━━━━━━━━━━━━━━\u001B[0m\u001B[37m\u001B[0m \u001B[1m0s\u001B[0m 4ms/step - accuracy: 0.9444 - loss: 0.2728 - val_accuracy: 0.8333 - val_loss: 0.3119\n",
      "Epoch 37/90\n",
      "\u001B[1m14/14\u001B[0m \u001B[32m━━━━━━━━━━━━━━━━━━━━\u001B[0m\u001B[37m\u001B[0m \u001B[1m0s\u001B[0m 4ms/step - accuracy: 0.9444 - loss: 0.2678 - val_accuracy: 0.9167 - val_loss: 0.2934\n",
      "Epoch 38/90\n",
      "\u001B[1m14/14\u001B[0m \u001B[32m━━━━━━━━━━━━━━━━━━━━\u001B[0m\u001B[37m\u001B[0m \u001B[1m0s\u001B[0m 4ms/step - accuracy: 0.9444 - loss: 0.2606 - val_accuracy: 0.8333 - val_loss: 0.2920\n",
      "Epoch 39/90\n",
      "\u001B[1m14/14\u001B[0m \u001B[32m━━━━━━━━━━━━━━━━━━━━\u001B[0m\u001B[37m\u001B[0m \u001B[1m0s\u001B[0m 4ms/step - accuracy: 0.9444 - loss: 0.2552 - val_accuracy: 0.9167 - val_loss: 0.2805\n",
      "Epoch 40/90\n",
      "\u001B[1m14/14\u001B[0m \u001B[32m━━━━━━━━━━━━━━━━━━━━\u001B[0m\u001B[37m\u001B[0m \u001B[1m0s\u001B[0m 4ms/step - accuracy: 0.9444 - loss: 0.2493 - val_accuracy: 0.9167 - val_loss: 0.2790\n",
      "Epoch 41/90\n",
      "\u001B[1m14/14\u001B[0m \u001B[32m━━━━━━━━━━━━━━━━━━━━\u001B[0m\u001B[37m\u001B[0m \u001B[1m0s\u001B[0m 4ms/step - accuracy: 0.9444 - loss: 0.2446 - val_accuracy: 0.9167 - val_loss: 0.2692\n",
      "Epoch 42/90\n",
      "\u001B[1m14/14\u001B[0m \u001B[32m━━━━━━━━━━━━━━━━━━━━\u001B[0m\u001B[37m\u001B[0m \u001B[1m0s\u001B[0m 4ms/step - accuracy: 0.9444 - loss: 0.2389 - val_accuracy: 0.9167 - val_loss: 0.2625\n",
      "Epoch 43/90\n",
      "\u001B[1m14/14\u001B[0m \u001B[32m━━━━━━━━━━━━━━━━━━━━\u001B[0m\u001B[37m\u001B[0m \u001B[1m0s\u001B[0m 4ms/step - accuracy: 0.9444 - loss: 0.2340 - val_accuracy: 0.9167 - val_loss: 0.2585\n",
      "Epoch 44/90\n",
      "\u001B[1m14/14\u001B[0m \u001B[32m━━━━━━━━━━━━━━━━━━━━\u001B[0m\u001B[37m\u001B[0m \u001B[1m0s\u001B[0m 4ms/step - accuracy: 0.9444 - loss: 0.2295 - val_accuracy: 0.9167 - val_loss: 0.2519\n",
      "Epoch 45/90\n",
      "\u001B[1m14/14\u001B[0m \u001B[32m━━━━━━━━━━━━━━━━━━━━\u001B[0m\u001B[37m\u001B[0m \u001B[1m0s\u001B[0m 4ms/step - accuracy: 0.9444 - loss: 0.2251 - val_accuracy: 0.9167 - val_loss: 0.2444\n",
      "Epoch 46/90\n",
      "\u001B[1m14/14\u001B[0m \u001B[32m━━━━━━━━━━━━━━━━━━━━\u001B[0m\u001B[37m\u001B[0m \u001B[1m0s\u001B[0m 4ms/step - accuracy: 0.9444 - loss: 0.2207 - val_accuracy: 0.9167 - val_loss: 0.2370\n",
      "Epoch 47/90\n",
      "\u001B[1m14/14\u001B[0m \u001B[32m━━━━━━━━━━━━━━━━━━━━\u001B[0m\u001B[37m\u001B[0m \u001B[1m0s\u001B[0m 4ms/step - accuracy: 0.9444 - loss: 0.2167 - val_accuracy: 0.9167 - val_loss: 0.2329\n",
      "Epoch 48/90\n",
      "\u001B[1m14/14\u001B[0m \u001B[32m━━━━━━━━━━━━━━━━━━━━\u001B[0m\u001B[37m\u001B[0m \u001B[1m0s\u001B[0m 4ms/step - accuracy: 0.9444 - loss: 0.2126 - val_accuracy: 0.9167 - val_loss: 0.2272\n",
      "Epoch 49/90\n",
      "\u001B[1m14/14\u001B[0m \u001B[32m━━━━━━━━━━━━━━━━━━━━\u001B[0m\u001B[37m\u001B[0m \u001B[1m0s\u001B[0m 4ms/step - accuracy: 0.9444 - loss: 0.2088 - val_accuracy: 0.9167 - val_loss: 0.2221\n",
      "Epoch 50/90\n",
      "\u001B[1m14/14\u001B[0m \u001B[32m━━━━━━━━━━━━━━━━━━━━\u001B[0m\u001B[37m\u001B[0m \u001B[1m0s\u001B[0m 4ms/step - accuracy: 0.9444 - loss: 0.2053 - val_accuracy: 0.9167 - val_loss: 0.2219\n",
      "Epoch 51/90\n",
      "\u001B[1m14/14\u001B[0m \u001B[32m━━━━━━━━━━━━━━━━━━━━\u001B[0m\u001B[37m\u001B[0m \u001B[1m0s\u001B[0m 4ms/step - accuracy: 0.9444 - loss: 0.2016 - val_accuracy: 0.9167 - val_loss: 0.2129\n",
      "Epoch 52/90\n",
      "\u001B[1m14/14\u001B[0m \u001B[32m━━━━━━━━━━━━━━━━━━━━\u001B[0m\u001B[37m\u001B[0m \u001B[1m0s\u001B[0m 4ms/step - accuracy: 0.9444 - loss: 0.1983 - val_accuracy: 0.9167 - val_loss: 0.2114\n",
      "Epoch 53/90\n",
      "\u001B[1m14/14\u001B[0m \u001B[32m━━━━━━━━━━━━━━━━━━━━\u001B[0m\u001B[37m\u001B[0m \u001B[1m0s\u001B[0m 4ms/step - accuracy: 0.9537 - loss: 0.1944 - val_accuracy: 0.9167 - val_loss: 0.2031\n",
      "Epoch 54/90\n",
      "\u001B[1m14/14\u001B[0m \u001B[32m━━━━━━━━━━━━━━━━━━━━\u001B[0m\u001B[37m\u001B[0m \u001B[1m0s\u001B[0m 4ms/step - accuracy: 0.9537 - loss: 0.1920 - val_accuracy: 0.9167 - val_loss: 0.1923\n",
      "Epoch 55/90\n",
      "\u001B[1m14/14\u001B[0m \u001B[32m━━━━━━━━━━━━━━━━━━━━\u001B[0m\u001B[37m\u001B[0m \u001B[1m0s\u001B[0m 4ms/step - accuracy: 0.9537 - loss: 0.1886 - val_accuracy: 0.9167 - val_loss: 0.1924\n",
      "Epoch 56/90\n",
      "\u001B[1m14/14\u001B[0m \u001B[32m━━━━━━━━━━━━━━━━━━━━\u001B[0m\u001B[37m\u001B[0m \u001B[1m0s\u001B[0m 4ms/step - accuracy: 0.9537 - loss: 0.1857 - val_accuracy: 0.9167 - val_loss: 0.1864\n",
      "Epoch 57/90\n",
      "\u001B[1m14/14\u001B[0m \u001B[32m━━━━━━━━━━━━━━━━━━━━\u001B[0m\u001B[37m\u001B[0m \u001B[1m0s\u001B[0m 4ms/step - accuracy: 0.9537 - loss: 0.1830 - val_accuracy: 0.9167 - val_loss: 0.1850\n",
      "Epoch 58/90\n",
      "\u001B[1m14/14\u001B[0m \u001B[32m━━━━━━━━━━━━━━━━━━━━\u001B[0m\u001B[37m\u001B[0m \u001B[1m0s\u001B[0m 4ms/step - accuracy: 0.9630 - loss: 0.1801 - val_accuracy: 0.9167 - val_loss: 0.1846\n",
      "Epoch 59/90\n",
      "\u001B[1m14/14\u001B[0m \u001B[32m━━━━━━━━━━━━━━━━━━━━\u001B[0m\u001B[37m\u001B[0m \u001B[1m0s\u001B[0m 4ms/step - accuracy: 0.9630 - loss: 0.1773 - val_accuracy: 0.9167 - val_loss: 0.1788\n",
      "Epoch 60/90\n",
      "\u001B[1m14/14\u001B[0m \u001B[32m━━━━━━━━━━━━━━━━━━━━\u001B[0m\u001B[37m\u001B[0m \u001B[1m0s\u001B[0m 4ms/step - accuracy: 0.9722 - loss: 0.1746 - val_accuracy: 0.9167 - val_loss: 0.1755\n",
      "Epoch 61/90\n",
      "\u001B[1m14/14\u001B[0m \u001B[32m━━━━━━━━━━━━━━━━━━━━\u001B[0m\u001B[37m\u001B[0m \u001B[1m0s\u001B[0m 4ms/step - accuracy: 0.9722 - loss: 0.1720 - val_accuracy: 0.9167 - val_loss: 0.1715\n",
      "Epoch 62/90\n",
      "\u001B[1m14/14\u001B[0m \u001B[32m━━━━━━━━━━━━━━━━━━━━\u001B[0m\u001B[37m\u001B[0m \u001B[1m0s\u001B[0m 4ms/step - accuracy: 0.9722 - loss: 0.1696 - val_accuracy: 0.9167 - val_loss: 0.1692\n",
      "Epoch 63/90\n",
      "\u001B[1m14/14\u001B[0m \u001B[32m━━━━━━━━━━━━━━━━━━━━\u001B[0m\u001B[37m\u001B[0m \u001B[1m0s\u001B[0m 4ms/step - accuracy: 0.9722 - loss: 0.1674 - val_accuracy: 0.9167 - val_loss: 0.1687\n",
      "Epoch 64/90\n",
      "\u001B[1m14/14\u001B[0m \u001B[32m━━━━━━━━━━━━━━━━━━━━\u001B[0m\u001B[37m\u001B[0m \u001B[1m0s\u001B[0m 4ms/step - accuracy: 0.9722 - loss: 0.1649 - val_accuracy: 0.9167 - val_loss: 0.1653\n",
      "Epoch 65/90\n",
      "\u001B[1m14/14\u001B[0m \u001B[32m━━━━━━━━━━━━━━━━━━━━\u001B[0m\u001B[37m\u001B[0m \u001B[1m0s\u001B[0m 4ms/step - accuracy: 0.9722 - loss: 0.1624 - val_accuracy: 0.9167 - val_loss: 0.1594\n",
      "Epoch 66/90\n",
      "\u001B[1m14/14\u001B[0m \u001B[32m━━━━━━━━━━━━━━━━━━━━\u001B[0m\u001B[37m\u001B[0m \u001B[1m0s\u001B[0m 4ms/step - accuracy: 0.9722 - loss: 0.1601 - val_accuracy: 0.9167 - val_loss: 0.1546\n",
      "Epoch 67/90\n",
      "\u001B[1m14/14\u001B[0m \u001B[32m━━━━━━━━━━━━━━━━━━━━\u001B[0m\u001B[37m\u001B[0m \u001B[1m0s\u001B[0m 4ms/step - accuracy: 0.9722 - loss: 0.1577 - val_accuracy: 0.9167 - val_loss: 0.1503\n",
      "Epoch 68/90\n",
      "\u001B[1m14/14\u001B[0m \u001B[32m━━━━━━━━━━━━━━━━━━━━\u001B[0m\u001B[37m\u001B[0m \u001B[1m0s\u001B[0m 4ms/step - accuracy: 0.9722 - loss: 0.1554 - val_accuracy: 0.9167 - val_loss: 0.1478\n",
      "Epoch 69/90\n",
      "\u001B[1m14/14\u001B[0m \u001B[32m━━━━━━━━━━━━━━━━━━━━\u001B[0m\u001B[37m\u001B[0m \u001B[1m0s\u001B[0m 4ms/step - accuracy: 0.9722 - loss: 0.1532 - val_accuracy: 0.9167 - val_loss: 0.1466\n",
      "Epoch 70/90\n",
      "\u001B[1m14/14\u001B[0m \u001B[32m━━━━━━━━━━━━━━━━━━━━\u001B[0m\u001B[37m\u001B[0m \u001B[1m0s\u001B[0m 4ms/step - accuracy: 0.9722 - loss: 0.1513 - val_accuracy: 1.0000 - val_loss: 0.1427\n",
      "Epoch 71/90\n",
      "\u001B[1m14/14\u001B[0m \u001B[32m━━━━━━━━━━━━━━━━━━━━\u001B[0m\u001B[37m\u001B[0m \u001B[1m0s\u001B[0m 4ms/step - accuracy: 0.9630 - loss: 0.1492 - val_accuracy: 1.0000 - val_loss: 0.1405\n",
      "Epoch 72/90\n",
      "\u001B[1m14/14\u001B[0m \u001B[32m━━━━━━━━━━━━━━━━━━━━\u001B[0m\u001B[37m\u001B[0m \u001B[1m0s\u001B[0m 4ms/step - accuracy: 0.9722 - loss: 0.1481 - val_accuracy: 1.0000 - val_loss: 0.1331\n",
      "Epoch 73/90\n",
      "\u001B[1m14/14\u001B[0m \u001B[32m━━━━━━━━━━━━━━━━━━━━\u001B[0m\u001B[37m\u001B[0m \u001B[1m0s\u001B[0m 4ms/step - accuracy: 0.9630 - loss: 0.1454 - val_accuracy: 1.0000 - val_loss: 0.1346\n",
      "Epoch 74/90\n",
      "\u001B[1m14/14\u001B[0m \u001B[32m━━━━━━━━━━━━━━━━━━━━\u001B[0m\u001B[37m\u001B[0m \u001B[1m0s\u001B[0m 4ms/step - accuracy: 0.9630 - loss: 0.1442 - val_accuracy: 1.0000 - val_loss: 0.1352\n",
      "Epoch 75/90\n",
      "\u001B[1m14/14\u001B[0m \u001B[32m━━━━━━━━━━━━━━━━━━━━\u001B[0m\u001B[37m\u001B[0m \u001B[1m0s\u001B[0m 4ms/step - accuracy: 0.9630 - loss: 0.1415 - val_accuracy: 1.0000 - val_loss: 0.1290\n",
      "Epoch 76/90\n",
      "\u001B[1m14/14\u001B[0m \u001B[32m━━━━━━━━━━━━━━━━━━━━\u001B[0m\u001B[37m\u001B[0m \u001B[1m0s\u001B[0m 4ms/step - accuracy: 0.9630 - loss: 0.1398 - val_accuracy: 1.0000 - val_loss: 0.1241\n",
      "Epoch 77/90\n",
      "\u001B[1m14/14\u001B[0m \u001B[32m━━━━━━━━━━━━━━━━━━━━\u001B[0m\u001B[37m\u001B[0m \u001B[1m0s\u001B[0m 4ms/step - accuracy: 0.9630 - loss: 0.1379 - val_accuracy: 1.0000 - val_loss: 0.1208\n",
      "Epoch 78/90\n",
      "\u001B[1m14/14\u001B[0m \u001B[32m━━━━━━━━━━━━━━━━━━━━\u001B[0m\u001B[37m\u001B[0m \u001B[1m0s\u001B[0m 4ms/step - accuracy: 0.9630 - loss: 0.1360 - val_accuracy: 1.0000 - val_loss: 0.1227\n",
      "Epoch 79/90\n",
      "\u001B[1m14/14\u001B[0m \u001B[32m━━━━━━━━━━━━━━━━━━━━\u001B[0m\u001B[37m\u001B[0m \u001B[1m0s\u001B[0m 4ms/step - accuracy: 0.9630 - loss: 0.1351 - val_accuracy: 1.0000 - val_loss: 0.1242\n",
      "Epoch 80/90\n",
      "\u001B[1m14/14\u001B[0m \u001B[32m━━━━━━━━━━━━━━━━━━━━\u001B[0m\u001B[37m\u001B[0m \u001B[1m0s\u001B[0m 4ms/step - accuracy: 0.9630 - loss: 0.1326 - val_accuracy: 1.0000 - val_loss: 0.1182\n",
      "Epoch 81/90\n",
      "\u001B[1m14/14\u001B[0m \u001B[32m━━━━━━━━━━━━━━━━━━━━\u001B[0m\u001B[37m\u001B[0m \u001B[1m0s\u001B[0m 4ms/step - accuracy: 0.9630 - loss: 0.1313 - val_accuracy: 1.0000 - val_loss: 0.1148\n",
      "Epoch 82/90\n",
      "\u001B[1m14/14\u001B[0m \u001B[32m━━━━━━━━━━━━━━━━━━━━\u001B[0m\u001B[37m\u001B[0m \u001B[1m0s\u001B[0m 4ms/step - accuracy: 0.9630 - loss: 0.1298 - val_accuracy: 1.0000 - val_loss: 0.1121\n",
      "Epoch 83/90\n",
      "\u001B[1m14/14\u001B[0m \u001B[32m━━━━━━━━━━━━━━━━━━━━\u001B[0m\u001B[37m\u001B[0m \u001B[1m0s\u001B[0m 4ms/step - accuracy: 0.9630 - loss: 0.1279 - val_accuracy: 1.0000 - val_loss: 0.1077\n",
      "Epoch 84/90\n",
      "\u001B[1m14/14\u001B[0m \u001B[32m━━━━━━━━━━━━━━━━━━━━\u001B[0m\u001B[37m\u001B[0m \u001B[1m0s\u001B[0m 4ms/step - accuracy: 0.9630 - loss: 0.1266 - val_accuracy: 1.0000 - val_loss: 0.1048\n",
      "Epoch 85/90\n",
      "\u001B[1m14/14\u001B[0m \u001B[32m━━━━━━━━━━━━━━━━━━━━\u001B[0m\u001B[37m\u001B[0m \u001B[1m-1s\u001B[0m -44321us/step - accuracy: 0.9630 - loss: 0.1251 - val_accuracy: 1.0000 - val_loss: 0.1022\n",
      "Epoch 86/90\n",
      "\u001B[1m14/14\u001B[0m \u001B[32m━━━━━━━━━━━━━━━━━━━━\u001B[0m\u001B[37m\u001B[0m \u001B[1m0s\u001B[0m 4ms/step - accuracy: 0.9630 - loss: 0.1237 - val_accuracy: 1.0000 - val_loss: 0.1019\n",
      "Epoch 87/90\n",
      "\u001B[1m14/14\u001B[0m \u001B[32m━━━━━━━━━━━━━━━━━━━━\u001B[0m\u001B[37m\u001B[0m \u001B[1m0s\u001B[0m 4ms/step - accuracy: 0.9630 - loss: 0.1223 - val_accuracy: 1.0000 - val_loss: 0.1010\n",
      "Epoch 88/90\n",
      "\u001B[1m14/14\u001B[0m \u001B[32m━━━━━━━━━━━━━━━━━━━━\u001B[0m\u001B[37m\u001B[0m \u001B[1m0s\u001B[0m 4ms/step - accuracy: 0.9630 - loss: 0.1210 - val_accuracy: 1.0000 - val_loss: 0.0999\n",
      "Epoch 89/90\n",
      "\u001B[1m14/14\u001B[0m \u001B[32m━━━━━━━━━━━━━━━━━━━━\u001B[0m\u001B[37m\u001B[0m \u001B[1m0s\u001B[0m 4ms/step - accuracy: 0.9630 - loss: 0.1196 - val_accuracy: 1.0000 - val_loss: 0.0978\n",
      "Epoch 90/90\n",
      "\u001B[1m14/14\u001B[0m \u001B[32m━━━━━━━━━━━━━━━━━━━━\u001B[0m\u001B[37m\u001B[0m \u001B[1m0s\u001B[0m 4ms/step - accuracy: 0.9630 - loss: 0.1184 - val_accuracy: 1.0000 - val_loss: 0.0952\n",
      "\u001B[1m1/1\u001B[0m \u001B[32m━━━━━━━━━━━━━━━━━━━━\u001B[0m\u001B[37m\u001B[0m \u001B[1m0s\u001B[0m 232ms/step - accuracy: 0.9333 - loss: 0.1757\n"
     ]
    }
   ],
   "execution_count": 6
  },
  {
   "metadata": {},
   "cell_type": "markdown",
   "source": [
    "# Plot the results\n",
    " I noticed that 12 neurons and 90 epocs was an optimal to get over 95 % accuracy. If neurons are raised it won affect to results anymore. If epocs are decreased  model starts to perform poorly."
   ],
   "id": "614acb81c43ea736"
  },
  {
   "metadata": {},
   "cell_type": "markdown",
   "source": [
    "| Metric                  | Data used                                                             | What it tells you                                                                                           |\n",
    "| ----------------------- | --------------------------------------------------------------------- | ----------------------------------------------------------------------------------------------------------- |\n",
    "| **Training accuracy**   | The data the model was **trained on** (`X_train`, `y_train`)          | How well the model learned patterns **from known examples**                                                 |\n",
    "| **Validation accuracy** | A held-out portion of the training data (your `validation_split=0.1`) | How well the model performs on **unseen data during training** (used to tune epochs and detect overfitting) |\n",
    "| **Test accuracy**       | The completely **separate test set** (`X_test`, `y_test`)             | How well the model generalizes to **new, never-before-seen data**                                           |\n"
   ],
   "id": "e1f1d23ff5816b95"
  },
  {
   "metadata": {},
   "cell_type": "markdown",
   "source": [
    "In well trained model:\n",
    "Training accuracy  ≥  Validation accuracy  ≈  Test accuracy\n",
    "\n",
    "In this case validation accuracy is 1 because dataset size is so small and validation set is 0.1 from it. Thats why model performs so well on that."
   ],
   "id": "a6cd432cea98c59b"
  },
  {
   "metadata": {
    "ExecuteTime": {
     "end_time": "2025-10-27T15:34:43.655697Z",
     "start_time": "2025-10-27T15:34:43.609003Z"
    }
   },
   "cell_type": "code",
   "source": [
    "\n",
    "print(\"Test loss:\", score[0])\n",
    "print(\"Test accuracy:\", score[1])\n",
    "\n",
    "print(\"Final training accuracy:\", model_data.history['accuracy'][-1])\n",
    "print(\"Final validation accuracy:\", model_data.history['val_accuracy'][-1])\n",
    "\n",
    "\n",
    "plt.plot(model_data.history['accuracy'],label= 'Training accuracy')\n",
    "plt.plot(model_data.history['val_accuracy'],label = 'Validation accuracy')\n",
    "plt.xlabel('Epoch')\n",
    "plt.ylabel('Accuracy')\n",
    "plt.legend()\n",
    "plt.grid(True)\n",
    "plt.show()\n"
   ],
   "id": "d83132f89bc7f534",
   "outputs": [
    {
     "name": "stdout",
     "output_type": "stream",
     "text": [
      "Test loss: 0.17570391297340393\n",
      "Test accuracy: 0.9333333373069763\n",
      "Final training accuracy: 0.9629629850387573\n",
      "Final validation accuracy: 1.0\n"
     ]
    },
    {
     "data": {
      "text/plain": [
       "<Figure size 640x480 with 1 Axes>"
      ],
      "image/png": "[encoded data removed]"
     },
     "metadata": {},
     "output_type": "display_data",
     "jetTransient": {
      "display_id": null
     }
    }
   ],
   "execution_count": 7
  }
 ],
 "metadata": {
  "kernelspec": {
   "display_name": "Python 3",
   "language": "python",
   "name": "python3"
  },
  "language_info": {
   "codemirror_mode": {
    "name": "ipython",
    "version": 2
   },
   "file_extension": ".py",
   "mimetype": "text/x-python",
   "name": "python",
   "nbconvert_exporter": "python",
   "pygments_lexer": "ipython2",
   "version": "2.7.6"
  }
 },
 "nbformat": 4,
 "nbformat_minor": 5
}
