{
 "cells": [
  {
   "cell_type": "code",
   "id": "initial_id",
   "metadata": {
    "collapsed": true,
    "ExecuteTime": {
     "end_time": "2025-10-26T14:16:39.581607Z",
     "start_time": "2025-10-26T14:16:38.156369Z"
    }
   },
   "source": [
    "import keras\n",
    "import pandas as pd\n",
    "from sklearn.model_selection import train_test_split\n",
    "from sklearn.preprocessing import LabelEncoder, StandardScaler\n",
    "import matplotlib.pyplot as plt"
   ],
   "outputs": [
    {
     "name": "stderr",
     "output_type": "stream",
     "text": [
      "WARNING: All log messages before absl::InitializeLog() is called are written to STDERR\n",
      "I0000 00:00:1761488198.316042 1476206 port.cc:153] oneDNN custom operations are on. You may see slightly different numerical results due to floating-point round-off errors from different computation orders. To turn them off, set the environment variable `TF_ENABLE_ONEDNN_OPTS=0`.\n",
      "I0000 00:00:1761488198.341164 1476206 cpu_feature_guard.cc:210] This TensorFlow binary is optimized to use available CPU instructions in performance-critical operations.\n",
      "To enable the following instructions: AVX2 AVX512F AVX512_VNNI AVX512_BF16 AVX_VNNI FMA, in other operations, rebuild TensorFlow with the appropriate compiler flags.\n",
      "WARNING: All log messages before absl::InitializeLog() is called are written to STDERR\n",
      "I0000 00:00:1761488198.967436 1476206 port.cc:153] oneDNN custom operations are on. You may see slightly different numerical results due to floating-point round-off errors from different computation orders. To turn them off, set the environment variable `TF_ENABLE_ONEDNN_OPTS=0`.\n"
     ]
    }
   ],
   "execution_count": 1
  },
  {
   "metadata": {
    "ExecuteTime": {
     "end_time": "2025-10-26T14:16:40.115012Z",
     "start_time": "2025-10-26T14:16:39.585311Z"
    }
   },
   "cell_type": "code",
   "source": [
    "url = \"https://archive.ics.uci.edu/ml/machine-learning-databases/iris/iris.data\"\n",
    "columns = ['sepal_length', 'sepal_width', 'petal_length', 'petal_width', 'species']\n",
    "df = pd.read_csv(url, header=None, names=columns)\n",
    "df = df.dropna()\n",
    "print(df.head())"
   ],
   "id": "308d2de272d65053",
   "outputs": [
    {
     "name": "stdout",
     "output_type": "stream",
     "text": [
      "   sepal_length  sepal_width  petal_length  petal_width      species\n",
      "0           5.1          3.5           1.4          0.2  Iris-setosa\n",
      "1           4.9          3.0           1.4          0.2  Iris-setosa\n",
      "2           4.7          3.2           1.3          0.2  Iris-setosa\n",
      "3           4.6          3.1           1.5          0.2  Iris-setosa\n",
      "4           5.0          3.6           1.4          0.2  Iris-setosa\n"
     ]
    }
   ],
   "execution_count": 2
  },
  {
   "metadata": {
    "ExecuteTime": {
     "end_time": "2025-10-26T14:16:40.126340Z",
     "start_time": "2025-10-26T14:16:40.124009Z"
    }
   },
   "cell_type": "code",
   "source": [
    "# Split target and values\n",
    "X = df.iloc[:, 0:4].values\n",
    "y = df['species'].values"
   ],
   "id": "ed34dad21af4991e",
   "outputs": [],
   "execution_count": 3
  },
  {
   "metadata": {
    "ExecuteTime": {
     "end_time": "2025-10-26T14:16:40.176423Z",
     "start_time": "2025-10-26T14:16:40.171571Z"
    }
   },
   "cell_type": "code",
   "source": [
    "# change labels to numerical values\n",
    "encoder = LabelEncoder()\n",
    "y_encoded = encoder.fit_transform(y)\n",
    "\n",
    "# make vector from categories\n",
    "y_categorical = keras.utils.to_categorical(y_encoded)\n",
    "\n",
    "# scale values\n",
    "scaler = StandardScaler()\n",
    "X_scaled = scaler.fit_transform(X)\n",
    "\n",
    "# split data set and ensure that test and train set have same amount of targets and also suffle data.\n",
    "X_train, X_test, y_train, y_test = train_test_split(X_scaled, y_categorical, test_size=0.2, random_state=42,\n",
    "                                                    shuffle=True, stratify=y)\n",
    "print(\"Training data shape:\", X_train.shape)\n",
    "print(\"Test data shape:\", X_test.shape)\n",
    "print(\"Training labels shape:\", y_train.shape)\n",
    "print(\"Test labels shape:\", y_test.shape)"
   ],
   "id": "f3e13d90575313aa",
   "outputs": [
    {
     "name": "stdout",
     "output_type": "stream",
     "text": [
      "Training data shape: (120, 4)\n",
      "Test data shape: (30, 4)\n",
      "Training labels shape: (120, 3)\n",
      "Test labels shape: (30, 3)\n"
     ]
    }
   ],
   "execution_count": 4
  },
  {
   "metadata": {},
   "cell_type": "markdown",
   "source": "# Building the neural network\n",
   "id": "8848410dafa418d6"
  },
  {
   "metadata": {
    "ExecuteTime": {
     "end_time": "2025-10-26T14:16:40.927271Z",
     "start_time": "2025-10-26T14:16:40.220436Z"
    }
   },
   "cell_type": "code",
   "source": [
    "model = keras.Sequential([\n",
    "    keras.Input(shape=(4,)),\n",
    "    keras.layers.Dense(12, activation='relu'),\n",
    "    keras.layers.Dense(3, activation='softmax')\n",
    "])\n",
    "model.compile(optimizer='adam',\n",
    "              loss='categorical_crossentropy',\n",
    "              metrics=['accuracy'])"
   ],
   "id": "8924be664fc6ff0a",
   "outputs": [
    {
     "name": "stderr",
     "output_type": "stream",
     "text": [
      "W0000 00:00:1761488200.347070 1476206 gpu_device.cc:2456] TensorFlow was not built with CUDA kernel binaries compatible with compute capability 12.0a. CUDA kernels will be jit-compiled from PTX, which could take 30 minutes or longer.\n",
      "W0000 00:00:1761488200.350409 1476206 gpu_device.cc:2456] TensorFlow was not built with CUDA kernel binaries compatible with compute capability 12.0a. CUDA kernels will be jit-compiled from PTX, which could take 30 minutes or longer.\n",
      "I0000 00:00:1761488200.449436 1476206 gpu_device.cc:2040] Created device /job:localhost/replica:0/task:0/device:GPU:0 with 13121 MB memory:  -> device: 0, name: NVIDIA GeForce RTX 5070 Ti, pci bus id: 0000:01:00.0, compute capability: 12.0a\n"
     ]
    }
   ],
   "execution_count": 5
  },
  {
   "metadata": {},
   "cell_type": "markdown",
   "source": [
    "# Train the model\n",
    "I noticed that i  batch size is raised over 8, models starts to perform poorly"
   ],
   "id": "1e983fedc26d2913"
  },
  {
   "metadata": {
    "ExecuteTime": {
     "end_time": "2025-10-26T14:16:48.644283Z",
     "start_time": "2025-10-26T14:16:40.931039Z"
    }
   },
   "cell_type": "code",
   "source": [
    "model_data = model.fit(X_train, y_train, epochs=90, batch_size=8, validation_split=0.1)\n",
    "score = model.evaluate(X_test, y_test, verbose=1)\n"
   ],
   "id": "531aabc62666efb9",
   "outputs": [
    {
     "name": "stdout",
     "output_type": "stream",
     "text": [
      "Epoch 1/90\n"
     ]
    },
    {
     "name": "stderr",
     "output_type": "stream",
     "text": [
      "I0000 00:00:1761488201.183402 1476372 service.cc:158] XLA service 0x7c5e60030270 initialized for platform CUDA (this does not guarantee that XLA will be used). Devices:\n",
      "I0000 00:00:1761488201.183435 1476372 service.cc:166]   StreamExecutor device (0): NVIDIA GeForce RTX 5070 Ti, Compute Capability 12.0a\n",
      "I0000 00:00:1761488201.192048 1476372 dump_mlir_util.cc:269] disabling MLIR crash reproducer, set env var `MLIR_CRASH_REPRODUCER_DIRECTORY` to enable.\n",
      "I0000 00:00:1761488201.232725 1476372 cuda_dnn.cc:463] Loaded cuDNN version 91002\n"
     ]
    },
    {
     "name": "stdout",
     "output_type": "stream",
     "text": [
      "\u001B[1m 1/14\u001B[0m \u001B[32m━\u001B[0m\u001B[37m━━━━━━━━━━━━━━━━━━━\u001B[0m \u001B[1m8s\u001B[0m 641ms/step - accuracy: 0.5000 - loss: 0.8981"
     ]
    },
    {
     "name": "stderr",
     "output_type": "stream",
     "text": [
      "I0000 00:00:1761488201.591398 1476372 device_compiler.h:208] Compiled cluster using XLA!  This line is logged at most once for the lifetime of the process.\n"
     ]
    },
    {
     "name": "stdout",
     "output_type": "stream",
     "text": [
      "\u001B[1m14/14\u001B[0m \u001B[32m━━━━━━━━━━━━━━━━━━━━\u001B[0m\u001B[37m\u001B[0m \u001B[1m1s\u001B[0m 44ms/step - accuracy: 0.3704 - loss: 1.0395 - val_accuracy: 0.5833 - val_loss: 0.7652\n",
      "Epoch 2/90\n",
      "\u001B[1m14/14\u001B[0m \u001B[32m━━━━━━━━━━━━━━━━━━━━\u001B[0m\u001B[37m\u001B[0m \u001B[1m0s\u001B[0m 4ms/step - accuracy: 0.4444 - loss: 0.9439 - val_accuracy: 0.5833 - val_loss: 0.7197\n",
      "Epoch 3/90\n",
      "\u001B[1m14/14\u001B[0m \u001B[32m━━━━━━━━━━━━━━━━━━━━\u001B[0m\u001B[37m\u001B[0m \u001B[1m0s\u001B[0m 4ms/step - accuracy: 0.4907 - loss: 0.8685 - val_accuracy: 0.5833 - val_loss: 0.6788\n",
      "Epoch 4/90\n",
      "\u001B[1m14/14\u001B[0m \u001B[32m━━━━━━━━━━━━━━━━━━━━\u001B[0m\u001B[37m\u001B[0m \u001B[1m0s\u001B[0m 4ms/step - accuracy: 0.5556 - loss: 0.8014 - val_accuracy: 0.5833 - val_loss: 0.6446\n",
      "Epoch 5/90\n",
      "\u001B[1m14/14\u001B[0m \u001B[32m━━━━━━━━━━━━━━━━━━━━\u001B[0m\u001B[37m\u001B[0m \u001B[1m0s\u001B[0m 5ms/step - accuracy: 0.6389 - loss: 0.7448 - val_accuracy: 0.7500 - val_loss: 0.6132\n",
      "Epoch 6/90\n",
      "\u001B[1m14/14\u001B[0m \u001B[32m━━━━━━━━━━━━━━━━━━━━\u001B[0m\u001B[37m\u001B[0m \u001B[1m0s\u001B[0m 4ms/step - accuracy: 0.7037 - loss: 0.6967 - val_accuracy: 0.7500 - val_loss: 0.5836\n",
      "Epoch 7/90\n",
      "\u001B[1m14/14\u001B[0m \u001B[32m━━━━━━━━━━━━━━━━━━━━\u001B[0m\u001B[37m\u001B[0m \u001B[1m0s\u001B[0m 4ms/step - accuracy: 0.7778 - loss: 0.6563 - val_accuracy: 0.7500 - val_loss: 0.5579\n",
      "Epoch 8/90\n",
      "\u001B[1m14/14\u001B[0m \u001B[32m━━━━━━━━━━━━━━━━━━━━\u001B[0m\u001B[37m\u001B[0m \u001B[1m0s\u001B[0m 4ms/step - accuracy: 0.7963 - loss: 0.6202 - val_accuracy: 0.7500 - val_loss: 0.5356\n",
      "Epoch 9/90\n",
      "\u001B[1m14/14\u001B[0m \u001B[32m━━━━━━━━━━━━━━━━━━━━\u001B[0m\u001B[37m\u001B[0m \u001B[1m0s\u001B[0m 4ms/step - accuracy: 0.8333 - loss: 0.5888 - val_accuracy: 0.7500 - val_loss: 0.5171\n",
      "Epoch 10/90\n",
      "\u001B[1m14/14\u001B[0m \u001B[32m━━━━━━━━━━━━━━━━━━━━\u001B[0m\u001B[37m\u001B[0m \u001B[1m0s\u001B[0m 4ms/step - accuracy: 0.8519 - loss: 0.5620 - val_accuracy: 0.7500 - val_loss: 0.5007\n",
      "Epoch 11/90\n",
      "\u001B[1m14/14\u001B[0m \u001B[32m━━━━━━━━━━━━━━━━━━━━\u001B[0m\u001B[37m\u001B[0m \u001B[1m0s\u001B[0m 4ms/step - accuracy: 0.8704 - loss: 0.5374 - val_accuracy: 0.7500 - val_loss: 0.4853\n",
      "Epoch 12/90\n",
      "\u001B[1m14/14\u001B[0m \u001B[32m━━━━━━━━━━━━━━━━━━━━\u001B[0m\u001B[37m\u001B[0m \u001B[1m0s\u001B[0m 4ms/step - accuracy: 0.8704 - loss: 0.5166 - val_accuracy: 0.7500 - val_loss: 0.4702\n",
      "Epoch 13/90\n",
      "\u001B[1m14/14\u001B[0m \u001B[32m━━━━━━━━━━━━━━━━━━━━\u001B[0m\u001B[37m\u001B[0m \u001B[1m0s\u001B[0m 4ms/step - accuracy: 0.8704 - loss: 0.4967 - val_accuracy: 0.7500 - val_loss: 0.4600\n",
      "Epoch 14/90\n",
      "\u001B[1m14/14\u001B[0m \u001B[32m━━━━━━━━━━━━━━━━━━━━\u001B[0m\u001B[37m\u001B[0m \u001B[1m0s\u001B[0m 4ms/step - accuracy: 0.8704 - loss: 0.4795 - val_accuracy: 0.7500 - val_loss: 0.4525\n",
      "Epoch 15/90\n",
      "\u001B[1m14/14\u001B[0m \u001B[32m━━━━━━━━━━━━━━━━━━━━\u001B[0m\u001B[37m\u001B[0m \u001B[1m0s\u001B[0m 4ms/step - accuracy: 0.8704 - loss: 0.4636 - val_accuracy: 0.7500 - val_loss: 0.4441\n",
      "Epoch 16/90\n",
      "\u001B[1m14/14\u001B[0m \u001B[32m━━━━━━━━━━━━━━━━━━━━\u001B[0m\u001B[37m\u001B[0m \u001B[1m0s\u001B[0m 4ms/step - accuracy: 0.8704 - loss: 0.4485 - val_accuracy: 0.7500 - val_loss: 0.4336\n",
      "Epoch 17/90\n",
      "\u001B[1m14/14\u001B[0m \u001B[32m━━━━━━━━━━━━━━━━━━━━\u001B[0m\u001B[37m\u001B[0m \u001B[1m0s\u001B[0m 4ms/step - accuracy: 0.8796 - loss: 0.4350 - val_accuracy: 0.7500 - val_loss: 0.4227\n",
      "Epoch 18/90\n",
      "\u001B[1m14/14\u001B[0m \u001B[32m━━━━━━━━━━━━━━━━━━━━\u001B[0m\u001B[37m\u001B[0m \u001B[1m0s\u001B[0m 4ms/step - accuracy: 0.8796 - loss: 0.4222 - val_accuracy: 0.7500 - val_loss: 0.4146\n",
      "Epoch 19/90\n",
      "\u001B[1m14/14\u001B[0m \u001B[32m━━━━━━━━━━━━━━━━━━━━\u001B[0m\u001B[37m\u001B[0m \u001B[1m0s\u001B[0m 4ms/step - accuracy: 0.8796 - loss: 0.4115 - val_accuracy: 0.7500 - val_loss: 0.4119\n",
      "Epoch 20/90\n",
      "\u001B[1m14/14\u001B[0m \u001B[32m━━━━━━━━━━━━━━━━━━━━\u001B[0m\u001B[37m\u001B[0m \u001B[1m0s\u001B[0m 4ms/step - accuracy: 0.8796 - loss: 0.3986 - val_accuracy: 0.7500 - val_loss: 0.4038\n",
      "Epoch 21/90\n",
      "\u001B[1m14/14\u001B[0m \u001B[32m━━━━━━━━━━━━━━━━━━━━\u001B[0m\u001B[37m\u001B[0m \u001B[1m0s\u001B[0m 4ms/step - accuracy: 0.8796 - loss: 0.3889 - val_accuracy: 0.7500 - val_loss: 0.3955\n",
      "Epoch 22/90\n",
      "\u001B[1m14/14\u001B[0m \u001B[32m━━━━━━━━━━━━━━━━━━━━\u001B[0m\u001B[37m\u001B[0m \u001B[1m0s\u001B[0m 4ms/step - accuracy: 0.8796 - loss: 0.3789 - val_accuracy: 0.7500 - val_loss: 0.3910\n",
      "Epoch 23/90\n",
      "\u001B[1m14/14\u001B[0m \u001B[32m━━━━━━━━━━━━━━━━━━━━\u001B[0m\u001B[37m\u001B[0m \u001B[1m0s\u001B[0m 4ms/step - accuracy: 0.8796 - loss: 0.3695 - val_accuracy: 0.8333 - val_loss: 0.3862\n",
      "Epoch 24/90\n",
      "\u001B[1m14/14\u001B[0m \u001B[32m━━━━━━━━━━━━━━━━━━━━\u001B[0m\u001B[37m\u001B[0m \u001B[1m0s\u001B[0m 4ms/step - accuracy: 0.8796 - loss: 0.3610 - val_accuracy: 0.8333 - val_loss: 0.3812\n",
      "Epoch 25/90\n",
      "\u001B[1m14/14\u001B[0m \u001B[32m━━━━━━━━━━━━━━━━━━━━\u001B[0m\u001B[37m\u001B[0m \u001B[1m0s\u001B[0m 4ms/step - accuracy: 0.8796 - loss: 0.3524 - val_accuracy: 0.8333 - val_loss: 0.3749\n",
      "Epoch 26/90\n",
      "\u001B[1m14/14\u001B[0m \u001B[32m━━━━━━━━━━━━━━━━━━━━\u001B[0m\u001B[37m\u001B[0m \u001B[1m0s\u001B[0m 4ms/step - accuracy: 0.8796 - loss: 0.3449 - val_accuracy: 0.8333 - val_loss: 0.3721\n",
      "Epoch 27/90\n",
      "\u001B[1m14/14\u001B[0m \u001B[32m━━━━━━━━━━━━━━━━━━━━\u001B[0m\u001B[37m\u001B[0m \u001B[1m0s\u001B[0m 4ms/step - accuracy: 0.8796 - loss: 0.3380 - val_accuracy: 0.8333 - val_loss: 0.3686\n",
      "Epoch 28/90\n",
      "\u001B[1m14/14\u001B[0m \u001B[32m━━━━━━━━━━━━━━━━━━━━\u001B[0m\u001B[37m\u001B[0m \u001B[1m0s\u001B[0m 4ms/step - accuracy: 0.8981 - loss: 0.3303 - val_accuracy: 0.8333 - val_loss: 0.3601\n",
      "Epoch 29/90\n",
      "\u001B[1m14/14\u001B[0m \u001B[32m━━━━━━━━━━━━━━━━━━━━\u001B[0m\u001B[37m\u001B[0m \u001B[1m0s\u001B[0m 4ms/step - accuracy: 0.8981 - loss: 0.3234 - val_accuracy: 0.8333 - val_loss: 0.3539\n",
      "Epoch 30/90\n",
      "\u001B[1m14/14\u001B[0m \u001B[32m━━━━━━━━━━━━━━━━━━━━\u001B[0m\u001B[37m\u001B[0m \u001B[1m0s\u001B[0m 4ms/step - accuracy: 0.9074 - loss: 0.3168 - val_accuracy: 0.8333 - val_loss: 0.3507\n",
      "Epoch 31/90\n",
      "\u001B[1m14/14\u001B[0m \u001B[32m━━━━━━━━━━━━━━━━━━━━\u001B[0m\u001B[37m\u001B[0m \u001B[1m0s\u001B[0m 4ms/step - accuracy: 0.9074 - loss: 0.3102 - val_accuracy: 0.8333 - val_loss: 0.3430\n",
      "Epoch 32/90\n",
      "\u001B[1m14/14\u001B[0m \u001B[32m━━━━━━━━━━━━━━━━━━━━\u001B[0m\u001B[37m\u001B[0m \u001B[1m0s\u001B[0m 4ms/step - accuracy: 0.9074 - loss: 0.3041 - val_accuracy: 0.8333 - val_loss: 0.3402\n",
      "Epoch 33/90\n",
      "\u001B[1m14/14\u001B[0m \u001B[32m━━━━━━━━━━━━━━━━━━━━\u001B[0m\u001B[37m\u001B[0m \u001B[1m0s\u001B[0m 4ms/step - accuracy: 0.9074 - loss: 0.2979 - val_accuracy: 0.8333 - val_loss: 0.3347\n",
      "Epoch 34/90\n",
      "\u001B[1m14/14\u001B[0m \u001B[32m━━━━━━━━━━━━━━━━━━━━\u001B[0m\u001B[37m\u001B[0m \u001B[1m0s\u001B[0m 4ms/step - accuracy: 0.9074 - loss: 0.2918 - val_accuracy: 0.8333 - val_loss: 0.3296\n",
      "Epoch 35/90\n",
      "\u001B[1m14/14\u001B[0m \u001B[32m━━━━━━━━━━━━━━━━━━━━\u001B[0m\u001B[37m\u001B[0m \u001B[1m0s\u001B[0m 4ms/step - accuracy: 0.9074 - loss: 0.2861 - val_accuracy: 0.8333 - val_loss: 0.3259\n",
      "Epoch 36/90\n",
      "\u001B[1m14/14\u001B[0m \u001B[32m━━━━━━━━━━━━━━━━━━━━\u001B[0m\u001B[37m\u001B[0m \u001B[1m0s\u001B[0m 4ms/step - accuracy: 0.9074 - loss: 0.2807 - val_accuracy: 0.8333 - val_loss: 0.3218\n",
      "Epoch 37/90\n",
      "\u001B[1m14/14\u001B[0m \u001B[32m━━━━━━━━━━━━━━━━━━━━\u001B[0m\u001B[37m\u001B[0m \u001B[1m0s\u001B[0m 4ms/step - accuracy: 0.9074 - loss: 0.2751 - val_accuracy: 0.8333 - val_loss: 0.3140\n",
      "Epoch 38/90\n",
      "\u001B[1m14/14\u001B[0m \u001B[32m━━━━━━━━━━━━━━━━━━━━\u001B[0m\u001B[37m\u001B[0m \u001B[1m0s\u001B[0m 4ms/step - accuracy: 0.9167 - loss: 0.2698 - val_accuracy: 0.8333 - val_loss: 0.3096\n",
      "Epoch 39/90\n",
      "\u001B[1m14/14\u001B[0m \u001B[32m━━━━━━━━━━━━━━━━━━━━\u001B[0m\u001B[37m\u001B[0m \u001B[1m0s\u001B[0m 4ms/step - accuracy: 0.9167 - loss: 0.2645 - val_accuracy: 0.8333 - val_loss: 0.3072\n",
      "Epoch 40/90\n",
      "\u001B[1m14/14\u001B[0m \u001B[32m━━━━━━━━━━━━━━━━━━━━\u001B[0m\u001B[37m\u001B[0m \u001B[1m0s\u001B[0m 4ms/step - accuracy: 0.9167 - loss: 0.2595 - val_accuracy: 0.8333 - val_loss: 0.3037\n",
      "Epoch 41/90\n",
      "\u001B[1m14/14\u001B[0m \u001B[32m━━━━━━━━━━━━━━━━━━━━\u001B[0m\u001B[37m\u001B[0m \u001B[1m0s\u001B[0m 4ms/step - accuracy: 0.9167 - loss: 0.2547 - val_accuracy: 0.8333 - val_loss: 0.2978\n",
      "Epoch 42/90\n",
      "\u001B[1m14/14\u001B[0m \u001B[32m━━━━━━━━━━━━━━━━━━━━\u001B[0m\u001B[37m\u001B[0m \u001B[1m0s\u001B[0m 4ms/step - accuracy: 0.9167 - loss: 0.2495 - val_accuracy: 0.8333 - val_loss: 0.2933\n",
      "Epoch 43/90\n",
      "\u001B[1m14/14\u001B[0m \u001B[32m━━━━━━━━━━━━━━━━━━━━\u001B[0m\u001B[37m\u001B[0m \u001B[1m0s\u001B[0m 4ms/step - accuracy: 0.9167 - loss: 0.2447 - val_accuracy: 0.8333 - val_loss: 0.2871\n",
      "Epoch 44/90\n",
      "\u001B[1m14/14\u001B[0m \u001B[32m━━━━━━━━━━━━━━━━━━━━\u001B[0m\u001B[37m\u001B[0m \u001B[1m0s\u001B[0m 4ms/step - accuracy: 0.9167 - loss: 0.2407 - val_accuracy: 0.8333 - val_loss: 0.2856\n",
      "Epoch 45/90\n",
      "\u001B[1m14/14\u001B[0m \u001B[32m━━━━━━━━━━━━━━━━━━━━\u001B[0m\u001B[37m\u001B[0m \u001B[1m0s\u001B[0m 4ms/step - accuracy: 0.9167 - loss: 0.2355 - val_accuracy: 0.8333 - val_loss: 0.2794\n",
      "Epoch 46/90\n",
      "\u001B[1m14/14\u001B[0m \u001B[32m━━━━━━━━━━━━━━━━━━━━\u001B[0m\u001B[37m\u001B[0m \u001B[1m0s\u001B[0m 4ms/step - accuracy: 0.9259 - loss: 0.2318 - val_accuracy: 0.8333 - val_loss: 0.2720\n",
      "Epoch 47/90\n",
      "\u001B[1m14/14\u001B[0m \u001B[32m━━━━━━━━━━━━━━━━━━━━\u001B[0m\u001B[37m\u001B[0m \u001B[1m0s\u001B[0m 4ms/step - accuracy: 0.9167 - loss: 0.2274 - val_accuracy: 0.8333 - val_loss: 0.2670\n",
      "Epoch 48/90\n",
      "\u001B[1m14/14\u001B[0m \u001B[32m━━━━━━━━━━━━━━━━━━━━\u001B[0m\u001B[37m\u001B[0m \u001B[1m0s\u001B[0m 4ms/step - accuracy: 0.9259 - loss: 0.2233 - val_accuracy: 0.8333 - val_loss: 0.2607\n",
      "Epoch 49/90\n",
      "\u001B[1m14/14\u001B[0m \u001B[32m━━━━━━━━━━━━━━━━━━━━\u001B[0m\u001B[37m\u001B[0m \u001B[1m0s\u001B[0m 4ms/step - accuracy: 0.9167 - loss: 0.2192 - val_accuracy: 0.8333 - val_loss: 0.2589\n",
      "Epoch 50/90\n",
      "\u001B[1m14/14\u001B[0m \u001B[32m━━━━━━━━━━━━━━━━━━━━\u001B[0m\u001B[37m\u001B[0m \u001B[1m0s\u001B[0m 4ms/step - accuracy: 0.9259 - loss: 0.2149 - val_accuracy: 0.8333 - val_loss: 0.2524\n",
      "Epoch 51/90\n",
      "\u001B[1m14/14\u001B[0m \u001B[32m━━━━━━━━━━━━━━━━━━━━\u001B[0m\u001B[37m\u001B[0m \u001B[1m0s\u001B[0m 4ms/step - accuracy: 0.9259 - loss: 0.2114 - val_accuracy: 0.8333 - val_loss: 0.2461\n",
      "Epoch 52/90\n",
      "\u001B[1m14/14\u001B[0m \u001B[32m━━━━━━━━━━━━━━━━━━━━\u001B[0m\u001B[37m\u001B[0m \u001B[1m0s\u001B[0m 4ms/step - accuracy: 0.9352 - loss: 0.2071 - val_accuracy: 0.8333 - val_loss: 0.2408\n",
      "Epoch 53/90\n",
      "\u001B[1m14/14\u001B[0m \u001B[32m━━━━━━━━━━━━━━━━━━━━\u001B[0m\u001B[37m\u001B[0m \u001B[1m0s\u001B[0m 4ms/step - accuracy: 0.9352 - loss: 0.2039 - val_accuracy: 0.9167 - val_loss: 0.2348\n",
      "Epoch 54/90\n",
      "\u001B[1m14/14\u001B[0m \u001B[32m━━━━━━━━━━━━━━━━━━━━\u001B[0m\u001B[37m\u001B[0m \u001B[1m0s\u001B[0m 4ms/step - accuracy: 0.9352 - loss: 0.2002 - val_accuracy: 0.9167 - val_loss: 0.2319\n",
      "Epoch 55/90\n",
      "\u001B[1m14/14\u001B[0m \u001B[32m━━━━━━━━━━━━━━━━━━━━\u001B[0m\u001B[37m\u001B[0m \u001B[1m0s\u001B[0m 4ms/step - accuracy: 0.9352 - loss: 0.1961 - val_accuracy: 0.9167 - val_loss: 0.2261\n",
      "Epoch 56/90\n",
      "\u001B[1m14/14\u001B[0m \u001B[32m━━━━━━━━━━━━━━━━━━━━\u001B[0m\u001B[37m\u001B[0m \u001B[1m0s\u001B[0m 4ms/step - accuracy: 0.9352 - loss: 0.1925 - val_accuracy: 0.9167 - val_loss: 0.2225\n",
      "Epoch 57/90\n",
      "\u001B[1m14/14\u001B[0m \u001B[32m━━━━━━━━━━━━━━━━━━━━\u001B[0m\u001B[37m\u001B[0m \u001B[1m0s\u001B[0m 4ms/step - accuracy: 0.9444 - loss: 0.1888 - val_accuracy: 0.9167 - val_loss: 0.2187\n",
      "Epoch 58/90\n",
      "\u001B[1m14/14\u001B[0m \u001B[32m━━━━━━━━━━━━━━━━━━━━\u001B[0m\u001B[37m\u001B[0m \u001B[1m0s\u001B[0m 4ms/step - accuracy: 0.9444 - loss: 0.1854 - val_accuracy: 0.9167 - val_loss: 0.2082\n",
      "Epoch 59/90\n",
      "\u001B[1m14/14\u001B[0m \u001B[32m━━━━━━━━━━━━━━━━━━━━\u001B[0m\u001B[37m\u001B[0m \u001B[1m0s\u001B[0m 4ms/step - accuracy: 0.9444 - loss: 0.1819 - val_accuracy: 0.9167 - val_loss: 0.2029\n",
      "Epoch 60/90\n",
      "\u001B[1m14/14\u001B[0m \u001B[32m━━━━━━━━━━━━━━━━━━━━\u001B[0m\u001B[37m\u001B[0m \u001B[1m0s\u001B[0m 4ms/step - accuracy: 0.9444 - loss: 0.1786 - val_accuracy: 0.9167 - val_loss: 0.1950\n",
      "Epoch 61/90\n",
      "\u001B[1m14/14\u001B[0m \u001B[32m━━━━━━━━━━━━━━━━━━━━\u001B[0m\u001B[37m\u001B[0m \u001B[1m0s\u001B[0m 4ms/step - accuracy: 0.9444 - loss: 0.1753 - val_accuracy: 0.9167 - val_loss: 0.1912\n",
      "Epoch 62/90\n",
      "\u001B[1m14/14\u001B[0m \u001B[32m━━━━━━━━━━━━━━━━━━━━\u001B[0m\u001B[37m\u001B[0m \u001B[1m0s\u001B[0m 4ms/step - accuracy: 0.9537 - loss: 0.1726 - val_accuracy: 0.9167 - val_loss: 0.1805\n",
      "Epoch 63/90\n",
      "\u001B[1m14/14\u001B[0m \u001B[32m━━━━━━━━━━━━━━━━━━━━\u001B[0m\u001B[37m\u001B[0m \u001B[1m0s\u001B[0m 4ms/step - accuracy: 0.9537 - loss: 0.1683 - val_accuracy: 0.9167 - val_loss: 0.1762\n",
      "Epoch 64/90\n",
      "\u001B[1m14/14\u001B[0m \u001B[32m━━━━━━━━━━━━━━━━━━━━\u001B[0m\u001B[37m\u001B[0m \u001B[1m0s\u001B[0m 4ms/step - accuracy: 0.9537 - loss: 0.1645 - val_accuracy: 0.9167 - val_loss: 0.1737\n",
      "Epoch 65/90\n",
      "\u001B[1m14/14\u001B[0m \u001B[32m━━━━━━━━━━━━━━━━━━━━\u001B[0m\u001B[37m\u001B[0m \u001B[1m0s\u001B[0m 4ms/step - accuracy: 0.9630 - loss: 0.1617 - val_accuracy: 0.9167 - val_loss: 0.1687\n",
      "Epoch 66/90\n",
      "\u001B[1m14/14\u001B[0m \u001B[32m━━━━━━━━━━━━━━━━━━━━\u001B[0m\u001B[37m\u001B[0m \u001B[1m0s\u001B[0m 4ms/step - accuracy: 0.9630 - loss: 0.1585 - val_accuracy: 0.9167 - val_loss: 0.1657\n",
      "Epoch 67/90\n",
      "\u001B[1m14/14\u001B[0m \u001B[32m━━━━━━━━━━━━━━━━━━━━\u001B[0m\u001B[37m\u001B[0m \u001B[1m0s\u001B[0m 4ms/step - accuracy: 0.9630 - loss: 0.1567 - val_accuracy: 0.9167 - val_loss: 0.1617\n",
      "Epoch 68/90\n",
      "\u001B[1m14/14\u001B[0m \u001B[32m━━━━━━━━━━━━━━━━━━━━\u001B[0m\u001B[37m\u001B[0m \u001B[1m0s\u001B[0m 4ms/step - accuracy: 0.9630 - loss: 0.1529 - val_accuracy: 0.9167 - val_loss: 0.1516\n",
      "Epoch 69/90\n",
      "\u001B[1m14/14\u001B[0m \u001B[32m━━━━━━━━━━━━━━━━━━━━\u001B[0m\u001B[37m\u001B[0m \u001B[1m0s\u001B[0m 4ms/step - accuracy: 0.9537 - loss: 0.1505 - val_accuracy: 0.9167 - val_loss: 0.1475\n",
      "Epoch 70/90\n",
      "\u001B[1m14/14\u001B[0m \u001B[32m━━━━━━━━━━━━━━━━━━━━\u001B[0m\u001B[37m\u001B[0m \u001B[1m0s\u001B[0m 4ms/step - accuracy: 0.9537 - loss: 0.1481 - val_accuracy: 0.9167 - val_loss: 0.1453\n",
      "Epoch 71/90\n",
      "\u001B[1m14/14\u001B[0m \u001B[32m━━━━━━━━━━━━━━━━━━━━\u001B[0m\u001B[37m\u001B[0m \u001B[1m0s\u001B[0m 4ms/step - accuracy: 0.9537 - loss: 0.1464 - val_accuracy: 1.0000 - val_loss: 0.1378\n",
      "Epoch 72/90\n",
      "\u001B[1m14/14\u001B[0m \u001B[32m━━━━━━━━━━━━━━━━━━━━\u001B[0m\u001B[37m\u001B[0m \u001B[1m0s\u001B[0m 4ms/step - accuracy: 0.9537 - loss: 0.1430 - val_accuracy: 1.0000 - val_loss: 0.1339\n",
      "Epoch 73/90\n",
      "\u001B[1m14/14\u001B[0m \u001B[32m━━━━━━━━━━━━━━━━━━━━\u001B[0m\u001B[37m\u001B[0m \u001B[1m0s\u001B[0m 4ms/step - accuracy: 0.9537 - loss: 0.1407 - val_accuracy: 1.0000 - val_loss: 0.1317\n",
      "Epoch 74/90\n",
      "\u001B[1m14/14\u001B[0m \u001B[32m━━━━━━━━━━━━━━━━━━━━\u001B[0m\u001B[37m\u001B[0m \u001B[1m0s\u001B[0m 4ms/step - accuracy: 0.9537 - loss: 0.1383 - val_accuracy: 1.0000 - val_loss: 0.1282\n",
      "Epoch 75/90\n",
      "\u001B[1m14/14\u001B[0m \u001B[32m━━━━━━━━━━━━━━━━━━━━\u001B[0m\u001B[37m\u001B[0m \u001B[1m0s\u001B[0m 4ms/step - accuracy: 0.9537 - loss: 0.1363 - val_accuracy: 1.0000 - val_loss: 0.1258\n",
      "Epoch 76/90\n",
      "\u001B[1m14/14\u001B[0m \u001B[32m━━━━━━━━━━━━━━━━━━━━\u001B[0m\u001B[37m\u001B[0m \u001B[1m0s\u001B[0m 4ms/step - accuracy: 0.9537 - loss: 0.1345 - val_accuracy: 1.0000 - val_loss: 0.1222\n",
      "Epoch 77/90\n",
      "\u001B[1m14/14\u001B[0m \u001B[32m━━━━━━━━━━━━━━━━━━━━\u001B[0m\u001B[37m\u001B[0m \u001B[1m0s\u001B[0m 4ms/step - accuracy: 0.9537 - loss: 0.1325 - val_accuracy: 1.0000 - val_loss: 0.1148\n",
      "Epoch 78/90\n",
      "\u001B[1m14/14\u001B[0m \u001B[32m━━━━━━━━━━━━━━━━━━━━\u001B[0m\u001B[37m\u001B[0m \u001B[1m0s\u001B[0m 4ms/step - accuracy: 0.9537 - loss: 0.1305 - val_accuracy: 1.0000 - val_loss: 0.1125\n",
      "Epoch 79/90\n",
      "\u001B[1m14/14\u001B[0m \u001B[32m━━━━━━━━━━━━━━━━━━━━\u001B[0m\u001B[37m\u001B[0m \u001B[1m0s\u001B[0m 4ms/step - accuracy: 0.9537 - loss: 0.1286 - val_accuracy: 1.0000 - val_loss: 0.1108\n",
      "Epoch 80/90\n",
      "\u001B[1m14/14\u001B[0m \u001B[32m━━━━━━━━━━━━━━━━━━━━\u001B[0m\u001B[37m\u001B[0m \u001B[1m0s\u001B[0m 4ms/step - accuracy: 0.9537 - loss: 0.1272 - val_accuracy: 1.0000 - val_loss: 0.1119\n",
      "Epoch 81/90\n",
      "\u001B[1m14/14\u001B[0m \u001B[32m━━━━━━━━━━━━━━━━━━━━\u001B[0m\u001B[37m\u001B[0m \u001B[1m0s\u001B[0m 4ms/step - accuracy: 0.9537 - loss: 0.1251 - val_accuracy: 1.0000 - val_loss: 0.1085\n",
      "Epoch 82/90\n",
      "\u001B[1m14/14\u001B[0m \u001B[32m━━━━━━━━━━━━━━━━━━━━\u001B[0m\u001B[37m\u001B[0m \u001B[1m0s\u001B[0m 4ms/step - accuracy: 0.9537 - loss: 0.1240 - val_accuracy: 1.0000 - val_loss: 0.1046\n",
      "Epoch 83/90\n",
      "\u001B[1m14/14\u001B[0m \u001B[32m━━━━━━━━━━━━━━━━━━━━\u001B[0m\u001B[37m\u001B[0m \u001B[1m0s\u001B[0m 4ms/step - accuracy: 0.9537 - loss: 0.1219 - val_accuracy: 1.0000 - val_loss: 0.1028\n",
      "Epoch 84/90\n",
      "\u001B[1m14/14\u001B[0m \u001B[32m━━━━━━━━━━━━━━━━━━━━\u001B[0m\u001B[37m\u001B[0m \u001B[1m0s\u001B[0m 4ms/step - accuracy: 0.9537 - loss: 0.1203 - val_accuracy: 1.0000 - val_loss: 0.0989\n",
      "Epoch 85/90\n",
      "\u001B[1m14/14\u001B[0m \u001B[32m━━━━━━━━━━━━━━━━━━━━\u001B[0m\u001B[37m\u001B[0m \u001B[1m0s\u001B[0m 4ms/step - accuracy: 0.9537 - loss: 0.1188 - val_accuracy: 1.0000 - val_loss: 0.0974\n",
      "Epoch 86/90\n",
      "\u001B[1m14/14\u001B[0m \u001B[32m━━━━━━━━━━━━━━━━━━━━\u001B[0m\u001B[37m\u001B[0m \u001B[1m0s\u001B[0m 4ms/step - accuracy: 0.9537 - loss: 0.1178 - val_accuracy: 1.0000 - val_loss: 0.0956\n",
      "Epoch 87/90\n",
      "\u001B[1m14/14\u001B[0m \u001B[32m━━━━━━━━━━━━━━━━━━━━\u001B[0m\u001B[37m\u001B[0m \u001B[1m0s\u001B[0m 4ms/step - accuracy: 0.9537 - loss: 0.1159 - val_accuracy: 1.0000 - val_loss: 0.0919\n",
      "Epoch 88/90\n",
      "\u001B[1m14/14\u001B[0m \u001B[32m━━━━━━━━━━━━━━━━━━━━\u001B[0m\u001B[37m\u001B[0m \u001B[1m0s\u001B[0m 4ms/step - accuracy: 0.9537 - loss: 0.1147 - val_accuracy: 1.0000 - val_loss: 0.0906\n",
      "Epoch 89/90\n",
      "\u001B[1m14/14\u001B[0m \u001B[32m━━━━━━━━━━━━━━━━━━━━\u001B[0m\u001B[37m\u001B[0m \u001B[1m0s\u001B[0m 4ms/step - accuracy: 0.9630 - loss: 0.1130 - val_accuracy: 1.0000 - val_loss: 0.0897\n",
      "Epoch 90/90\n",
      "\u001B[1m14/14\u001B[0m \u001B[32m━━━━━━━━━━━━━━━━━━━━\u001B[0m\u001B[37m\u001B[0m \u001B[1m0s\u001B[0m 4ms/step - accuracy: 0.9630 - loss: 0.1119 - val_accuracy: 1.0000 - val_loss: 0.0858\n",
      "\u001B[1m1/1\u001B[0m \u001B[32m━━━━━━━━━━━━━━━━━━━━\u001B[0m\u001B[37m\u001B[0m \u001B[1m0s\u001B[0m 227ms/step - accuracy: 0.9667 - loss: 0.1501\n"
     ]
    }
   ],
   "execution_count": 6
  },
  {
   "metadata": {},
   "cell_type": "markdown",
   "source": [
    "# Plot the results\n",
    " I noticed that 12 neurons and 90 epocs was an optimal to get over 95 % accuracy. If neurons are raised it won affect to results anymore. If epocs are decreased  model starts to perform poorly."
   ],
   "id": "614acb81c43ea736"
  },
  {
   "metadata": {},
   "cell_type": "markdown",
   "source": [
    "| Metric                  | Data used                                                             | What it tells you                                                                                           |\n",
    "| ----------------------- | --------------------------------------------------------------------- | ----------------------------------------------------------------------------------------------------------- |\n",
    "| **Training accuracy**   | The data the model was **trained on** (`X_train`, `y_train`)          | How well the model learned patterns **from known examples**                                                 |\n",
    "| **Validation accuracy** | A held-out portion of the training data (your `validation_split=0.1`) | How well the model performs on **unseen data during training** (used to tune epochs and detect overfitting) |\n",
    "| **Test accuracy**       | The completely **separate test set** (`X_test`, `y_test`)             | How well the model generalizes to **new, never-before-seen data**                                           |\n"
   ],
   "id": "e1f1d23ff5816b95"
  },
  {
   "metadata": {},
   "cell_type": "markdown",
   "source": [
    "In well trained model:\n",
    "Training accuracy  ≥  Validation accuracy  ≈  Test accuracy"
   ],
   "id": "a6cd432cea98c59b"
  },
  {
   "metadata": {
    "ExecuteTime": {
     "end_time": "2025-10-26T14:16:49.470027Z",
     "start_time": "2025-10-26T14:16:49.424321Z"
    }
   },
   "cell_type": "code",
   "source": [
    "\n",
    "print(\"Test loss:\", score[0])\n",
    "print(\"Test accuracy:\", score[1])\n",
    "\n",
    "print(\"Final training accuracy:\", model_data.history['accuracy'][-1])\n",
    "print(\"Final validation accuracy:\", model_data.history['val_accuracy'][-1])\n",
    "\n",
    "\n",
    "plt.plot(model_data.history['accuracy'],label= 'Training accuracy')\n",
    "plt.plot(model_data.history['val_accuracy'],label = 'Validation accuracy')\n",
    "plt.xlabel('Epoch')\n",
    "plt.ylabel('Accuracy')\n",
    "plt.legend()\n",
    "plt.grid(True)\n",
    "plt.show()\n"
   ],
   "id": "d83132f89bc7f534",
   "outputs": [
    {
     "name": "stdout",
     "output_type": "stream",
     "text": [
      "Test loss: 0.15010496973991394\n",
      "Test accuracy: 0.9666666388511658\n",
      "Final training accuracy: 0.9629629850387573\n",
      "Final validation accuracy: 1.0\n"
     ]
    },
    {
     "data": {
      "text/plain": [
       "<Figure size 640x480 with 1 Axes>"
      ],
      "image/png": "[encoded data removed]"
     },
     "metadata": {},
     "output_type": "display_data",
     "jetTransient": {
      "display_id": null
     }
    }
   ],
   "execution_count": 7
  }
 ],
 "metadata": {
  "kernelspec": {
   "display_name": "Python 3",
   "language": "python",
   "name": "python3"
  },
  "language_info": {
   "codemirror_mode": {
    "name": "ipython",
    "version": 2
   },
   "file_extension": ".py",
   "mimetype": "text/x-python",
   "name": "python",
   "nbconvert_exporter": "python",
   "pygments_lexer": "ipython2",
   "version": "2.7.6"
  }
 },
 "nbformat": 4,
 "nbformat_minor": 5
}
